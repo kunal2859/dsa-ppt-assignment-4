{
 "cells": [
  {
   "cell_type": "code",
   "execution_count": 8,
   "id": "30bc414a",
   "metadata": {},
   "outputs": [
    {
     "name": "stdout",
     "output_type": "stream",
     "text": [
      "1 5 "
     ]
    }
   ],
   "source": [
    "def findCommon(a, b, c, n1, n2, n3):\n",
    "    l = set()\n",
    "    m = set()\n",
    "    n = set()\n",
    "    for i in range(n1):\n",
    "        l.add(a[i])\n",
    "\n",
    "    for i in range(n2):\n",
    "        m.add(b[i])\n",
    "\n",
    "    for i in range(n3):\n",
    "        if(c[i] in l and c[i] in m):\n",
    "            if c[i] not in n:\n",
    "                print(c[i], end = \" \")\n",
    "            n.add(c[i])\n",
    "\n",
    "arr1 = [1,2,3,4,5]\n",
    "arr2 = [1,2,5,7,9] \n",
    "arr3 = [1,3,4,5,8]\n",
    "n1 = len(arr1)\n",
    "n2 = len(arr2)\n",
    "n3 = len(arr3)\n",
    "findCommon(arr1, arr2, arr3, n1, n2, n3)"
   ]
  },
  {
   "cell_type": "code",
   "execution_count": 9,
   "id": "9b6d7c15",
   "metadata": {},
   "outputs": [
    {
     "data": {
      "text/plain": [
       "[[1, 3], [4, 6]]"
      ]
     },
     "execution_count": 9,
     "metadata": {},
     "output_type": "execute_result"
    }
   ],
   "source": [
    "def findUnique(nums1,nums2):\n",
    "    n1=set(nums1)\n",
    "    n2=set(nums2)\n",
    "    r1=list(set(x for x in nums1 if x not in n2))\n",
    "    r2=list(set(x for x in nums2 if x not in n1))\n",
    "    return [r1,r2]\n",
    "\n",
    "nums1 = [1,2,3]\n",
    "nums2 = [2,4,6]\n",
    "findUnique(nums1,nums2)"
   ]
  },
  {
   "cell_type": "code",
   "execution_count": 11,
   "id": "0fc59e11",
   "metadata": {},
   "outputs": [
    {
     "data": {
      "text/plain": [
       "[[1, 4, 7], [2, 5, 8], [3, 6, 9]]"
      ]
     },
     "execution_count": 11,
     "metadata": {},
     "output_type": "execute_result"
    }
   ],
   "source": [
    "def transpose(matrix):\n",
    "    m,n=len(matrix),len(matrix[0])\n",
    "    ans = [[None] * m for _ in range(n)]\n",
    "    for i in range(m):\n",
    "        for j in range(n):\n",
    "            ans[j][i]=matrix[i][j]\n",
    "    return ans\n",
    "\n",
    "matrix = [[1,2,3],[4,5,6],[7,8,9]]\n",
    "transpose(matrix)"
   ]
  },
  {
   "cell_type": "code",
   "execution_count": 12,
   "id": "f441389a",
   "metadata": {},
   "outputs": [
    {
     "name": "stdout",
     "output_type": "stream",
     "text": [
      "4\n"
     ]
    }
   ],
   "source": [
    "nums=[1,4,3,2]\n",
    "nums.sort()\n",
    "s=0\n",
    "for i in range(0,len(nums),2):\n",
    "    s+=min(nums[i],nums[i+1])\n",
    "print(s)"
   ]
  },
  {
   "cell_type": "code",
   "execution_count": 14,
   "id": "6a9d4224",
   "metadata": {},
   "outputs": [
    {
     "data": {
      "text/plain": [
       "2"
      ]
     },
     "execution_count": 14,
     "metadata": {},
     "output_type": "execute_result"
    }
   ],
   "source": [
    "def stairsCount(n):\n",
    "    count = 0\n",
    "    rows = 0\n",
    "    if n == 1:\n",
    "        return 1\n",
    "    while count+(rows+1) <= n:\n",
    "        rows += 1\n",
    "        count = count + rows\n",
    "    return rows\n",
    "\n",
    "n=5\n",
    "stairsCount(n)"
   ]
  },
  {
   "cell_type": "code",
   "execution_count": 15,
   "id": "c66cabc7",
   "metadata": {},
   "outputs": [
    {
     "name": "stdout",
     "output_type": "stream",
     "text": [
      "[0, 1, 9, 16, 100]\n"
     ]
    }
   ],
   "source": [
    "nums = [-4,-1,0,3,10]\n",
    "x=[]\n",
    "for i in nums:\n",
    "    x.append(i*i)\n",
    "x.sort()\n",
    "print(x)"
   ]
  },
  {
   "cell_type": "code",
   "execution_count": 20,
   "id": "61e899c7",
   "metadata": {},
   "outputs": [
    {
     "data": {
      "text/plain": [
       "4"
      ]
     },
     "execution_count": 20,
     "metadata": {},
     "output_type": "execute_result"
    }
   ],
   "source": [
    "from collections import defaultdict\n",
    "def maxCount(m,n,ops):\n",
    "    x, y = defaultdict(int), defaultdict(int)\n",
    "    for op in ops:\n",
    "        for i in range(1, op[0]+1):\n",
    "            x[i] += 1\n",
    "        for j in range(1, op[1]+1):\n",
    "            y[j] += 1\n",
    "    max_X, max_Y, max_Xval, max_Yval = m, n, 0, 0\n",
    "    for k,v in x.items():\n",
    "        if v >= max_Xval:\n",
    "            max_X = k\n",
    "            max_Xval = v\n",
    "    for k,v in y.items():\n",
    "        if v >= max_Yval:\n",
    "            max_Y = k\n",
    "            max_Yval = v\n",
    "    return max_X*max_Y\n",
    "\n",
    "m = 3\n",
    "n = 3 \n",
    "ops = [[2,2],[3,3]]\n",
    "maxCount(m,n,ops)"
   ]
  },
  {
   "cell_type": "code",
   "execution_count": 22,
   "id": "b067df77",
   "metadata": {},
   "outputs": [
    {
     "data": {
      "text/plain": [
       "[2, 3, 5, 4, 1, 7]"
      ]
     },
     "execution_count": 22,
     "metadata": {},
     "output_type": "execute_result"
    }
   ],
   "source": [
    "def merged(nums,n):\n",
    "    i=0\n",
    "    j=n\n",
    "    res=[]\n",
    "    while(i<n):\n",
    "        res.append(nums[i])\n",
    "        res.append(nums[j])\n",
    "        i+=1\n",
    "        j+=1\n",
    "    return res\n",
    "\n",
    "nums=[2,5,1,3,4,7]\n",
    "n=3\n",
    "merged(nums,n)"
   ]
  },
  {
   "cell_type": "code",
   "execution_count": null,
   "id": "7ad5ae5b",
   "metadata": {},
   "outputs": [],
   "source": []
  }
 ],
 "metadata": {
  "kernelspec": {
   "display_name": "Python 3 (ipykernel)",
   "language": "python",
   "name": "python3"
  },
  "language_info": {
   "codemirror_mode": {
    "name": "ipython",
    "version": 3
   },
   "file_extension": ".py",
   "mimetype": "text/x-python",
   "name": "python",
   "nbconvert_exporter": "python",
   "pygments_lexer": "ipython3",
   "version": "3.9.13"
  }
 },
 "nbformat": 4,
 "nbformat_minor": 5
}
